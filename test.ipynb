{
 "cells": [
  {
   "cell_type": "markdown",
   "id": "a3837f1b",
   "metadata": {
    "slideshow": {
     "slide_type": "slide"
    }
   },
   "source": [
    "# Welcome to Jupyter Notebooks\n",
    "\n",
    "A Jupyter Notebook is a document file formt that can include text as well as code,by default Python code.\n",
    "\n",
    "# This is a subtitle\n",
    "\n",
    "Can be used to strcuture your document.\n",
    "\n",
    "![cute cat](cat.png)\n",
    "\n",
    "Someone(unknown) once said:balabala\n",
    "\n",
    ">This is a citation\n",
    "\n",
    "[a link](https://google.com)\n"
   ]
  },
  {
   "cell_type": "code",
   "execution_count": 3,
   "id": "6ddb78f7",
   "metadata": {
    "slideshow": {
     "slide_type": "slide"
    }
   },
   "outputs": [
    {
     "name": "stdout",
     "output_type": "stream",
     "text": [
      "hello,world!\n"
     ]
    }
   ],
   "source": [
    "print(\"hello,world!\")"
   ]
  },
  {
   "cell_type": "markdown",
   "id": "b85a008f",
   "metadata": {
    "slideshow": {
     "slide_type": "slide"
    }
   },
   "source": [
    "Another Markdown cell"
   ]
  },
  {
   "cell_type": "markdown",
   "id": "9de90d64",
   "metadata": {},
   "source": []
  }
 ],
 "metadata": {
  "kernelspec": {
   "display_name": "base",
   "language": "python",
   "name": "python3"
  },
  "language_info": {
   "codemirror_mode": {
    "name": "ipython",
    "version": 3
   },
   "file_extension": ".py",
   "mimetype": "text/x-python",
   "name": "python",
   "nbconvert_exporter": "python",
   "pygments_lexer": "ipython3",
   "version": "3.12.7"
  }
 },
 "nbformat": 4,
 "nbformat_minor": 5
}
